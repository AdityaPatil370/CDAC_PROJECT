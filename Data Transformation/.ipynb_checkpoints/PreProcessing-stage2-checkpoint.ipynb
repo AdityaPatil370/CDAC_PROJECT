{
 "cells": [
  {
   "cell_type": "code",
   "execution_count": 14,
   "id": "838bc843",
   "metadata": {},
   "outputs": [],
   "source": [
    "# Intialization\n",
    "import os\n",
    "import sys\n",
    "\n",
    "\n",
    "os.environ[\"SPARK_HOME\"] = \"/home/talentum/spark\"\n",
    "os.environ[\"PYLIB\"] = os.environ[\"SPARK_HOME\"] + \"/python/lib\"\n",
    "os.environ[\"PYSPARK_PYTHON\"] = \"/usr/bin/python3.6\" \n",
    "os.environ[\"PYSPARK_DRIVER_PYTHON\"] = \"/usr/bin/python3\"\n",
    "sys.path.insert(0, os.environ[\"PYLIB\"] +\"/py4j-0.10.7-src.zip\")\n",
    "sys.path.insert(0, os.environ[\"PYLIB\"] +\"/pyspark.zip\")\n",
    "os.environ['PYSPARK_SUBMIT_ARGS'] = '--packages com.databricks:spark-xml_2.11:0.6.0,org.apache.spark:spark-avro_2.11:2.4.3 pyspark-shell'"
   ]
  },
  {
   "cell_type": "code",
   "execution_count": 15,
   "id": "9c4f250b",
   "metadata": {},
   "outputs": [],
   "source": [
    "#Entrypoint \n",
    "from pyspark.sql import SparkSession\n",
    "spark = SparkSession.builder.appName(\"Final Project\").enableHiveSupport().getOrCreate()\n",
    "\n",
    "sc = spark.sparkContext"
   ]
  },
  {
   "cell_type": "markdown",
   "id": "eedb1eaa",
   "metadata": {},
   "source": [
    "# Loading the Raw Datasets"
   ]
  },
  {
   "cell_type": "code",
   "execution_count": 26,
   "id": "618fb9aa",
   "metadata": {
    "scrolled": true
   },
   "outputs": [],
   "source": [
    "df=spark.read.format('parquet').load(\"file:///home/talentum/FinalTable/Parq/FReviewTable.parquet\")\n",
    "df_only_restors=spark.read.format('parquet').load('file:///home/talentum/FinalTable/Parq/FBusinessPar.parquet')"
   ]
  },
  {
   "cell_type": "markdown",
   "id": "cef007f7",
   "metadata": {},
   "source": [
    "# Alphanumeric To Numeric Conversion"
   ]
  },
  {
   "cell_type": "code",
   "execution_count": 27,
   "id": "b4939034",
   "metadata": {
    "scrolled": true
   },
   "outputs": [],
   "source": [
    "#Alplphanumeric to numeric\n",
    "\n",
    "from pyspark.sql.functions import col, udf\n",
    "from pyspark.sql.types import IntegerType\n",
    "\n",
    "# Get distinct alphanumeric values and create a mapping\n",
    "unique_users = df.select(\"user_id\").distinct().rdd.flatMap(lambda x: x).collect()\n",
    "unique_items = df.select(\"business_id\").distinct().rdd.flatMap(lambda x: x).collect()\n",
    "\n",
    "user_mapping = {user: idx for idx, user in enumerate(unique_users)}\n",
    "item_mapping = {item: idx for idx, item in enumerate(unique_items)}\n",
    "\n",
    "# Define UDFs to map alphanumeric values to numeric\n",
    "def map_user(user):\n",
    "    return user_mapping.get(user, -1)\n",
    "\n",
    "def map_item(item):\n",
    "    return item_mapping.get(item, -1)\n",
    "\n",
    "udf_map_user = udf(map_user, IntegerType())\n",
    "udf_map_item = udf(map_item, IntegerType())\n",
    "\n",
    "# Apply UDFs to convert alphanumeric values to numeric\n",
    "df_numeric = df.withColumn(\"userId_numeric\", udf_map_user(col(\"user_id\"))) \\\n",
    "               .withColumn(\"itemId_numeric\", udf_map_item(col(\"business_id\")))\n",
    "\n",
    "\n"
   ]
  },
  {
   "cell_type": "code",
   "execution_count": 28,
   "id": "7ee463d8",
   "metadata": {},
   "outputs": [
    {
     "name": "stdout",
     "output_type": "stream",
     "text": [
      "DataFrame with Numeric Values and Other Columns:\n"
     ]
    },
    {
     "data": {
      "text/plain": [
       "800000"
      ]
     },
     "execution_count": 28,
     "metadata": {},
     "output_type": "execute_result"
    }
   ],
   "source": [
    "# checking the final count \n",
    "print(\"DataFrame with Numeric Values and Other Columns:\")\n",
    "df_numeric.count()"
   ]
  },
  {
   "cell_type": "code",
   "execution_count": 29,
   "id": "0f544e63",
   "metadata": {},
   "outputs": [
    {
     "name": "stdout",
     "output_type": "stream",
     "text": [
      "DataFrame with Numeric Values and Other Columns:\n"
     ]
    },
    {
     "data": {
      "text/plain": [
       "['business_id',\n",
       " 'review_id',\n",
       " 'user_id',\n",
       " 'stars',\n",
       " 'useful',\n",
       " 'text',\n",
       " 'date',\n",
       " 'name',\n",
       " 'address',\n",
       " 'city',\n",
       " 'state',\n",
       " 'latitude',\n",
       " 'longitude',\n",
       " 'review_count',\n",
       " 'is_open',\n",
       " 'categories',\n",
       " 'yelping_since',\n",
       " 'average_stars',\n",
       " 'userId_numeric',\n",
       " 'itemId_numeric']"
      ]
     },
     "execution_count": 29,
     "metadata": {},
     "output_type": "execute_result"
    }
   ],
   "source": [
    "# checking the columns\n",
    "print(\"DataFrame with Numeric Values and Other Columns:\")\n",
    "df_numeric.columns"
   ]
  },
  {
   "cell_type": "markdown",
   "id": "4119a418",
   "metadata": {},
   "source": [
    "#  Extracting only required columns"
   ]
  },
  {
   "cell_type": "code",
   "execution_count": 30,
   "id": "bcba032f",
   "metadata": {},
   "outputs": [],
   "source": [
    "df_numeric=df_numeric.select(\"userId_numeric\",\"itemId_numeric\",\"stars\")\n",
    "df=df_numeric.coalesce(1)\n",
    "df_only_users=spark.read.format('parquet').load('file:///home/talentum/FinalTable/Parq/fuser.parquet')"
   ]
  },
  {
   "cell_type": "markdown",
   "id": "11a6a73d",
   "metadata": {},
   "source": [
    "# Saving the output for Model training"
   ]
  },
  {
   "cell_type": "code",
   "execution_count": 22,
   "id": "801c6c67",
   "metadata": {},
   "outputs": [],
   "source": [
    "#click here Shift enter \n",
    "df_u=df_only_users.select('userId_numeric','name').coalesce(1)\n",
    "\n",
    "df_u.write.mode(\"overwrite\").parquet('file:///home/talentum/Project/ReviewDf_name/')\n",
    "df.write.mode(\"overwrite\").parquet(\"file:///home/talentum/Project/ReviewDf/\")"
   ]
  },
  {
   "cell_type": "code",
   "execution_count": 31,
   "id": "10127ceb",
   "metadata": {},
   "outputs": [
    {
     "data": {
      "text/plain": [
       "[Row(userId_numeric=0, itemId_numeric=7452, stars=1.0),\n",
       " Row(userId_numeric=1, itemId_numeric=696, stars=5.0),\n",
       " Row(userId_numeric=2, itemId_numeric=51395, stars=4.0),\n",
       " Row(userId_numeric=3, itemId_numeric=11736, stars=5.0),\n",
       " Row(userId_numeric=4, itemId_numeric=40457, stars=1.0),\n",
       " Row(userId_numeric=5, itemId_numeric=24933, stars=5.0),\n",
       " Row(userId_numeric=6, itemId_numeric=7126, stars=1.0),\n",
       " Row(userId_numeric=6, itemId_numeric=53821, stars=5.0),\n",
       " Row(userId_numeric=6, itemId_numeric=43764, stars=5.0),\n",
       " Row(userId_numeric=6, itemId_numeric=14466, stars=5.0),\n",
       " Row(userId_numeric=6, itemId_numeric=16892, stars=1.0),\n",
       " Row(userId_numeric=6, itemId_numeric=40458, stars=5.0),\n",
       " Row(userId_numeric=6, itemId_numeric=61551, stars=5.0),\n",
       " Row(userId_numeric=6, itemId_numeric=16892, stars=1.0),\n",
       " Row(userId_numeric=7, itemId_numeric=40459, stars=1.0),\n",
       " Row(userId_numeric=8, itemId_numeric=53489, stars=5.0),\n",
       " Row(userId_numeric=9, itemId_numeric=58241, stars=5.0),\n",
       " Row(userId_numeric=10, itemId_numeric=25280, stars=5.0),\n",
       " Row(userId_numeric=11, itemId_numeric=31226, stars=5.0),\n",
       " Row(userId_numeric=11, itemId_numeric=51396, stars=4.0)]"
      ]
     },
     "execution_count": 31,
     "metadata": {},
     "output_type": "execute_result"
    }
   ],
   "source": [
    "#checking the output\n",
    "df.sort('userId_numeric').head(20)"
   ]
  },
  {
   "cell_type": "markdown",
   "id": "3470f203",
   "metadata": {},
   "source": [
    "# Training Model on saved Users"
   ]
  },
  {
   "cell_type": "code",
   "execution_count": 32,
   "id": "6b43c143",
   "metadata": {},
   "outputs": [],
   "source": [
    "from pyspark.mllib.recommendation import ALS, Rating\n",
    "from pyspark.sql.functions import col\n",
    "\n",
    "# Prepare the data for ALS\n",
    "ratings = df.rdd.map(lambda row: Rating(row[\"userId_numeric\"], row[\"itemId_numeric\"], row[\"stars\"]))\n",
    "\n",
    "# Split data into training and test sets\n",
    "#training_rdd, test_rdd = ratings.randomSplit([0.8, 0.2])\n",
    "\n",
    "# Train ALS model\n",
    "rank = 10\n",
    "numIterations = 10\n",
    "block_size=-1 # parallel computing(relying on  systems default)\n",
    "model = ALS.train(ratings, rank, numIterations,blocks=block_size)\n"
   ]
  },
  {
   "cell_type": "markdown",
   "id": "6f79b15e",
   "metadata": {},
   "source": [
    "# Saving Model "
   ]
  },
  {
   "cell_type": "code",
   "execution_count": null,
   "id": "12725e0c",
   "metadata": {},
   "outputs": [],
   "source": [
    "#To save the trained Model\n",
    "path ='file:///home/talentum/Project/Model'\n",
    "\n",
    "\n",
    "#-------------------------------------------------------------------------\n",
    "\n",
    "# Save the ALS model\n",
    "model.save(sc,path)\n",
    "\n"
   ]
  }
 ],
 "metadata": {
  "kernelspec": {
   "display_name": "Python 3 (ipykernel)",
   "language": "python",
   "name": "python3"
  },
  "language_info": {
   "codemirror_mode": {
    "name": "ipython",
    "version": 3
   },
   "file_extension": ".py",
   "mimetype": "text/x-python",
   "name": "python",
   "nbconvert_exporter": "python",
   "pygments_lexer": "ipython3",
   "version": "3.11.5"
  }
 },
 "nbformat": 4,
 "nbformat_minor": 5
}
