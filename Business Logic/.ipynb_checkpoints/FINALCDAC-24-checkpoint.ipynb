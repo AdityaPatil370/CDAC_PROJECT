{
 "cells": [
  {
   "cell_type": "code",
   "execution_count": 40,
   "id": "4b7c8513",
   "metadata": {},
   "outputs": [],
   "source": [
    "#pip install pyspark"
   ]
  },
  {
   "cell_type": "code",
   "execution_count": 42,
   "id": "3150ebf2",
   "metadata": {},
   "outputs": [],
   "source": [
    "import os\n",
    "import gc\n",
    "import sys\n",
    "import shutil\n",
    "\n",
    "#setting up spark  environment\n",
    "os.environ[\"SPARK_HOME\"] = \"/home/talentum/spark\"\n",
    "os.environ[\"PYLIB\"] = os.environ[\"SPARK_HOME\"] + \"/python/lib\"\n",
    "os.environ[\"PYSPARK_PYTHON\"] = \"/usr/bin/python3.6\" \n",
    "os.environ[\"PYSPARK_DRIVER_PYTHON\"] = \"/usr/bin/python3\"\n",
    "sys.path.insert(0, os.environ[\"PYLIB\"] +\"/py4j-0.10.7-src.zip\")\n",
    "sys.path.insert(0, os.environ[\"PYLIB\"] +\"/pyspark.zip\")\n",
    "os.environ['PYSPARK_SUBMIT_ARGS'] = '--packages com.databricks:spark-xml_2.11:0.6.0,org.apache.spark:spark-avro_2.11:2.4.3 pyspark-shell'"
   ]
  },
  {
   "cell_type": "code",
   "execution_count": 36,
   "id": "605dcb44",
   "metadata": {},
   "outputs": [],
   "source": [
    "#creating spark context object\n",
    "from pyspark.sql import SparkSession\n",
    "from pyspark.sql.functions import col\n",
    "spark = SparkSession.builder.appName(\"Final Project\").enableHiveSupport().getOrCreate()\n",
    "sc = spark.sparkContext"
   ]
  },
  {
   "cell_type": "markdown",
   "id": "53ccc29c",
   "metadata": {},
   "source": [
    "# Loading the Required Datasets"
   ]
  },
  {
   "cell_type": "code",
   "execution_count": 39,
   "id": "36eac3f9",
   "metadata": {},
   "outputs": [],
   "source": [
    "df_live_user_name=spark.read.format('parquet').load('file:///home/talentum/Project/ReviewDf_name/')# geting info about user(new + old)\n",
    "df_only_restors=spark.read.format('parquet').load('file:///home/talentum/FinalTable/Parq/FBusinessPar.parquet')#geting info about business\n",
    "df_only_users=spark.read.format('parquet').load('file:///home/talentum/FinalTable/Parq/fuser.parquet')#geting info  about user(historical user)"
   ]
  },
  {
   "cell_type": "markdown",
   "id": "6d242600",
   "metadata": {},
   "source": [
    "# Actual Recomendation"
   ]
  },
  {
   "cell_type": "code",
   "execution_count": 24,
   "id": "eaeed74b",
   "metadata": {},
   "outputs": [],
   "source": [
    "def get_top_n_recommendations(model,user_id, n=50):\n",
    "    recommendations = model.recommendProducts(user_id, n)\n",
    "    model = None  \n",
    "    gc.collect()  \n",
    "    rows = [Row(user_id=user_id, itemId_numeric=r.product, rating=r.rating) for r in recommendations]\n",
    "\n",
    "    recommendations_df = spark.createDataFrame(rows)\n",
    "    \n",
    "    return recommendations_df\n"
   ]
  },
  {
   "cell_type": "markdown",
   "id": "68f7ff1b",
   "metadata": {},
   "source": [
    "# Filtering Out The Recomendations Of the Model"
   ]
  },
  {
   "cell_type": "code",
   "execution_count": 25,
   "id": "44e5dca9",
   "metadata": {},
   "outputs": [],
   "source": [
    "def recomend_restros(model,user_id_numeric,u_state='',u_category='',u_nr=5):\n",
    "    \n",
    "    recommendations_df = get_top_n_recommendations(model,user_id_numeric, n=50)\n",
    "\n",
    "    \n",
    "    filtered_df = df_only_restors \\\n",
    "        .filter((col('state').rlike(f\"(?i).*{u_state}.*\"))& \n",
    "            (col('categories').rlike(f\"(?i).*{u_category}.*\")))\n",
    "\n",
    "   \n",
    "    result_df = filtered_df.join(recommendations_df, on='itemId_numeric', how='inner')\n",
    "\n",
    "    \n",
    "    top_5_results = result_df.orderBy(col(\"rating\").desc()).limit(u_nr)\n",
    "\n",
    "    \n",
    "    top_5_results.select('itemId_numeric','name','address', 'city',\n",
    "     'state','categories','stars').show()"
   ]
  },
  {
   "cell_type": "markdown",
   "id": "eadd0821",
   "metadata": {},
   "source": [
    "# Saving New UserId and Name for future refrence"
   ]
  },
  {
   "cell_type": "code",
   "execution_count": 26,
   "id": "09e2ab31",
   "metadata": {},
   "outputs": [],
   "source": [
    "def new_user(userId,uname):\n",
    "    from pyspark.sql.types import DoubleType, IntegerType, StructType, StructField,StringType\n",
    "    schema = StructType([\n",
    "    StructField(\"userId_numeric\", StringType(), True),\n",
    "    StructField(\"name\", StringType(), True)\n",
    "    ])\n",
    "    data = [(userId,uname)]\n",
    "    new_user_df = spark.createDataFrame(data, schema)\n",
    "    new_user_df.write.mode(\"append\").parquet(\"file:///home/talentum/Project/ReviewDf_name/\")\n",
    "    print(\"done\")"
   ]
  },
  {
   "cell_type": "markdown",
   "id": "9e72146d",
   "metadata": {},
   "source": [
    "# Saving Rating For Model Retraining"
   ]
  },
  {
   "cell_type": "code",
   "execution_count": 27,
   "id": "612db521",
   "metadata": {},
   "outputs": [],
   "source": [
    "def lets_rate(user_Id):\n",
    "    from pyspark.sql.types import DoubleType, IntegerType, StructType, StructField\n",
    "    \n",
    "    restro_Id=int(input(\"Select Restorant you Like (ID):\"))\n",
    "    \n",
    "    \n",
    "    df_r=df_only_restors.where(col('itemId_numeric')==int(restro_Id))\n",
    "    restro_name = df_r.select('name').collect()[0][0] \n",
    "    \n",
    "    u_stars=float(input(f\"Please Rate {restro_name}(out of 5):\"))\n",
    "    \n",
    "    \n",
    "    schema = StructType([\n",
    "    StructField(\"userId_numeric\", IntegerType(), True),\n",
    "    StructField(\"itemId_numeric\", IntegerType(), True),\n",
    "    StructField(\"stars\", DoubleType(), True)\n",
    "    ])\n",
    "    data = [(user_Id,restro_Id , u_stars)]\n",
    "    df_to_update=spark.createDataFrame(data,schema)\n",
    "\n",
    "    df_to_update.write.mode(\"append\").parquet(\"file:///home/talentum/Project/ReviewDf/\")\n",
    "    \n",
    "    print(\"Thanks For the rating... \")\n",
    "    retrain_model()\n",
    "    print(\"---Model_Saved---\")    "
   ]
  },
  {
   "cell_type": "markdown",
   "id": "009641c5",
   "metadata": {},
   "source": [
    "# To Retrain The Model  After Saving Review"
   ]
  },
  {
   "cell_type": "code",
   "execution_count": 28,
   "id": "e057e24e",
   "metadata": {},
   "outputs": [],
   "source": [
    "def retrain_model():\n",
    "    from pyspark.mllib.recommendation import ALS, Rating\n",
    "    from pyspark.sql.functions import col\n",
    "    df_live=spark.read.format('parquet').load(\"file:///home/talentum/Project/ReviewDf/\")\n",
    "    ratings = df_live.rdd.map(lambda row: Rating(row[\"userId_numeric\"], row[\"itemId_numeric\"], row[\"stars\"]))\n",
    "     \n",
    "    model_path = 'file:///home/talentum/Project/Model1'\n",
    "    \n",
    "    if os.path.exists(model_path):\n",
    "    # Delete the existing model directory\n",
    "        shutil.rmtree(model_path)\n",
    "    \n",
    "    \n",
    "    # Train ALS model\n",
    "    rank = 10\n",
    "    numIterations = 10\n",
    "    block_size=-1 # parallel computing\n",
    "    model1 = ALS.train(ratings, rank, numIterations,blocks=block_size)\n",
    "    print(\"---Model_Trained---\")\n",
    "    #rf_model.write().overwrite().save(rf_model_path)\n",
    "    model1.save(spark.sparkContext, model_path)\n",
    "    "
   ]
  },
  {
   "cell_type": "markdown",
   "id": "d0376b79",
   "metadata": {},
   "source": [
    "# Generic Top 5 "
   ]
  },
  {
   "cell_type": "code",
   "execution_count": 29,
   "id": "4fd16eb9",
   "metadata": {},
   "outputs": [],
   "source": [
    "def top_5():\n",
    "    print(\"---------------------Top Rated Places ----------------------\")\n",
    "    top_5_results = df_only_restors.orderBy(col(\"stars\").desc()).select('itemId_numeric','name','address', 'city',\n",
    "    'state','categories','stars').limit(5)\n",
    "    top_5_results.show()"
   ]
  },
  {
   "cell_type": "markdown",
   "id": "90a521fb",
   "metadata": {},
   "source": [
    "# Main Code For User Input"
   ]
  },
  {
   "cell_type": "code",
   "execution_count": 41,
   "id": "e3bb9d27",
   "metadata": {},
   "outputs": [
    {
     "name": "stdout",
     "output_type": "stream",
     "text": [
      "Enter your User Id (existing user) or a letter for new user: l\n",
      "New User ID generated for you: 234660\n",
      "Enter your name: \n",
      "Input Error: Name cannot be empty.\n",
      "Enter your User Id (existing user) or a letter for new user: \n",
      "Input Error: Invalid input. Please enter a valid User ID or a letter for new user.\n",
      "Enter your User Id (existing user) or a letter for new user: \n",
      "Input Error: Invalid input. Please enter a valid User ID or a letter for new user.\n"
     ]
    },
    {
     "ename": "KeyboardInterrupt",
     "evalue": "Interrupted by user",
     "output_type": "error",
     "traceback": [
      "\u001b[0;31m---------------------------------------------------------------------------\u001b[0m",
      "\u001b[0;31mKeyboardInterrupt\u001b[0m                         Traceback (most recent call last)",
      "\u001b[0;32m<ipython-input-41-e89b33c0d516>\u001b[0m in \u001b[0;36m<module>\u001b[0;34m\u001b[0m\n\u001b[1;32m     17\u001b[0m \u001b[0;32mwhile\u001b[0m \u001b[0;32mTrue\u001b[0m\u001b[0;34m:\u001b[0m\u001b[0;34m\u001b[0m\u001b[0;34m\u001b[0m\u001b[0m\n\u001b[1;32m     18\u001b[0m     \u001b[0;32mtry\u001b[0m\u001b[0;34m:\u001b[0m\u001b[0;34m\u001b[0m\u001b[0;34m\u001b[0m\u001b[0m\n\u001b[0;32m---> 19\u001b[0;31m         \u001b[0muser_id_input\u001b[0m \u001b[0;34m=\u001b[0m \u001b[0minput\u001b[0m\u001b[0;34m(\u001b[0m\u001b[0;34m\"Enter your User Id (existing user) or a letter for new user: \"\u001b[0m\u001b[0;34m)\u001b[0m\u001b[0;34m.\u001b[0m\u001b[0mstrip\u001b[0m\u001b[0;34m(\u001b[0m\u001b[0;34m)\u001b[0m\u001b[0;34m\u001b[0m\u001b[0;34m\u001b[0m\u001b[0m\n\u001b[0m\u001b[1;32m     20\u001b[0m \u001b[0;34m\u001b[0m\u001b[0m\n\u001b[1;32m     21\u001b[0m \u001b[0;34m\u001b[0m\u001b[0m\n",
      "\u001b[0;32m~/.local/lib/python3.6/site-packages/ipykernel/kernelbase.py\u001b[0m in \u001b[0;36mraw_input\u001b[0;34m(self, prompt)\u001b[0m\n\u001b[1;32m    852\u001b[0m             \u001b[0mself\u001b[0m\u001b[0;34m.\u001b[0m\u001b[0m_parent_ident\u001b[0m\u001b[0;34m,\u001b[0m\u001b[0;34m\u001b[0m\u001b[0;34m\u001b[0m\u001b[0m\n\u001b[1;32m    853\u001b[0m             \u001b[0mself\u001b[0m\u001b[0;34m.\u001b[0m\u001b[0m_parent_header\u001b[0m\u001b[0;34m,\u001b[0m\u001b[0;34m\u001b[0m\u001b[0;34m\u001b[0m\u001b[0m\n\u001b[0;32m--> 854\u001b[0;31m             \u001b[0mpassword\u001b[0m\u001b[0;34m=\u001b[0m\u001b[0;32mFalse\u001b[0m\u001b[0;34m,\u001b[0m\u001b[0;34m\u001b[0m\u001b[0;34m\u001b[0m\u001b[0m\n\u001b[0m\u001b[1;32m    855\u001b[0m         )\n\u001b[1;32m    856\u001b[0m \u001b[0;34m\u001b[0m\u001b[0m\n",
      "\u001b[0;32m~/.local/lib/python3.6/site-packages/ipykernel/kernelbase.py\u001b[0m in \u001b[0;36m_input_request\u001b[0;34m(self, prompt, ident, parent, password)\u001b[0m\n\u001b[1;32m    893\u001b[0m             \u001b[0;32mexcept\u001b[0m \u001b[0mKeyboardInterrupt\u001b[0m\u001b[0;34m:\u001b[0m\u001b[0;34m\u001b[0m\u001b[0;34m\u001b[0m\u001b[0m\n\u001b[1;32m    894\u001b[0m                 \u001b[0;31m# re-raise KeyboardInterrupt, to truncate traceback\u001b[0m\u001b[0;34m\u001b[0m\u001b[0;34m\u001b[0m\u001b[0;34m\u001b[0m\u001b[0m\n\u001b[0;32m--> 895\u001b[0;31m                 \u001b[0;32mraise\u001b[0m \u001b[0mKeyboardInterrupt\u001b[0m\u001b[0;34m(\u001b[0m\u001b[0;34m\"Interrupted by user\"\u001b[0m\u001b[0;34m)\u001b[0m \u001b[0;32mfrom\u001b[0m \u001b[0;32mNone\u001b[0m\u001b[0;34m\u001b[0m\u001b[0;34m\u001b[0m\u001b[0m\n\u001b[0m\u001b[1;32m    896\u001b[0m             \u001b[0;32mexcept\u001b[0m \u001b[0mException\u001b[0m \u001b[0;32mas\u001b[0m \u001b[0me\u001b[0m\u001b[0;34m:\u001b[0m\u001b[0;34m\u001b[0m\u001b[0;34m\u001b[0m\u001b[0m\n\u001b[1;32m    897\u001b[0m                 \u001b[0mself\u001b[0m\u001b[0;34m.\u001b[0m\u001b[0mlog\u001b[0m\u001b[0;34m.\u001b[0m\u001b[0mwarning\u001b[0m\u001b[0;34m(\u001b[0m\u001b[0;34m\"Invalid Message:\"\u001b[0m\u001b[0;34m,\u001b[0m \u001b[0mexc_info\u001b[0m\u001b[0;34m=\u001b[0m\u001b[0;32mTrue\u001b[0m\u001b[0;34m)\u001b[0m\u001b[0;34m\u001b[0m\u001b[0;34m\u001b[0m\u001b[0m\n",
      "\u001b[0;31mKeyboardInterrupt\u001b[0m: Interrupted by user"
     ]
    }
   ],
   "source": [
    "model_path = 'file:///home/talentum/Project/Model'\n",
    "model1_path = 'file:///home/talentum/Project/Model1'\n",
    "usear_data_path = \"file:///home/talentum/Project/ReviewDf_name/\"\n",
    "user_numeric_path = \"file:///home/talentum/Project/ReviewDf/\"\n",
    "\n",
    "\n",
    "model = MatrixFactorizationModel.load(sc, model_path)\n",
    "\n",
    "\n",
    "def get_recommendations(model, user_id):\n",
    " \n",
    "    pass\n",
    "\n",
    "\n",
    "df_live_user_name = spark.read.format('parquet').load(user_data_path)\n",
    "\n",
    "while True:\n",
    "    try:\n",
    "        user_id_input = input(\"Enter your User Id (existing user) or a letter for new user: \").strip()\n",
    "        \n",
    "        \n",
    "        if user_id_input.isdigit():\n",
    "            user_Id = int(user_id_input)\n",
    "            user_exists = df_live_user_name.filter(col('userId_numeric').isin([user_Id])).count() > 0\n",
    "            if not user_exists:\n",
    "                raise ValueError(\"User ID not found. Please enter a valid existing User ID.\")\n",
    "            break\n",
    "        \n",
    "        elif user_id_input.isalpha():\n",
    "           \n",
    "            df_numeric = spark.read.format('parquet').load(user_numeric_path)\n",
    "            max_Id = df_numeric.agg({\"userId_numeric\": \"max\"}).collect()[0]\n",
    "            new_Id = max_Id[\"max(userId_numeric)\"] + 1\n",
    "            print(f\"New User ID generated for you: {new_Id}\")\n",
    "            uname = input(\"Enter your name: \").strip()\n",
    "            if not uname:\n",
    "                raise ValueError(\"Name cannot be empty.\")\n",
    "            new_user(new_Id, uname) \n",
    "            user_Id = new_Id\n",
    "            break\n",
    "        \n",
    "        else:\n",
    "            raise ValueError(\"Invalid input. Please enter a valid User ID or a letter for new user.\")\n",
    "\n",
    "    except ValueError as ve:\n",
    "        print(f\"Input Error: {ve}\")\n",
    "\n",
    "    except Exception as e:\n",
    "        print(f\"An unexpected error occurred: {e}\")\n",
    "\n",
    "\n",
    "if user_id_input.isdigit():\n",
    "    df_user = df_live_user_name.where(col('userId_numeric') == user_Id)\n",
    "    user_name = df_user.select(\"name\").collect()[0][0] \n",
    "    print(f\"Welcome Back {user_name}!\")\n",
    "\n",
    "    top_5()\n",
    "    print(\"---------------------Top 5 Recommendations for you---------------------\")\n",
    "    recomend_restros(model, user_id_numeric=user_Id)\n",
    "    lets_rate(user_Id)\n",
    "    print(\"-----------------------------------------------------------------------\")\n",
    "\n",
    "    model1 = MatrixFactorizationModel.load(sc, model1_path)\n",
    "    print(\"We Are Ready...\")\n",
    "    print(\"---------------------Top 5 Recommendations for you---------------------\")\n",
    "    recomend_restros(model1, user_id_numeric=user_Id)\n",
    "\n",
    "\n",
    "else:\n",
    "    top_5()\n",
    "    lets_rate(int(user_Id))\n",
    "    print(\"-----------------------------------------------------------------------\")\n",
    "\n",
    "    model1 = MatrixFactorizationModel.load(sc, model1_path)\n",
    "    print(\"---------------------Top 5 Recommendations for you---------------------\")\n",
    "    recomend_restros(model1, user_id_numeric=user_Id)"
   ]
  },
  {
   "cell_type": "code",
   "execution_count": null,
   "id": "a97085e7",
   "metadata": {},
   "outputs": [],
   "source": []
  },
  {
   "cell_type": "code",
   "execution_count": null,
   "id": "25634df9",
   "metadata": {},
   "outputs": [],
   "source": []
  },
  {
   "cell_type": "code",
   "execution_count": null,
   "id": "d2dc57b7",
   "metadata": {},
   "outputs": [],
   "source": []
  },
  {
   "cell_type": "code",
   "execution_count": null,
   "id": "7958ec27",
   "metadata": {},
   "outputs": [],
   "source": []
  },
  {
   "cell_type": "code",
   "execution_count": null,
   "id": "92916bdd",
   "metadata": {},
   "outputs": [],
   "source": []
  },
  {
   "cell_type": "code",
   "execution_count": null,
   "id": "ec8ee00d",
   "metadata": {},
   "outputs": [],
   "source": []
  },
  {
   "cell_type": "code",
   "execution_count": null,
   "id": "0529a6ca",
   "metadata": {},
   "outputs": [],
   "source": []
  },
  {
   "cell_type": "code",
   "execution_count": null,
   "id": "8facf9b0",
   "metadata": {},
   "outputs": [],
   "source": []
  },
  {
   "cell_type": "code",
   "execution_count": null,
   "id": "6c91c87e",
   "metadata": {},
   "outputs": [],
   "source": []
  },
  {
   "cell_type": "code",
   "execution_count": null,
   "id": "d971f67b",
   "metadata": {},
   "outputs": [],
   "source": []
  },
  {
   "cell_type": "code",
   "execution_count": null,
   "id": "fefbb476",
   "metadata": {},
   "outputs": [],
   "source": []
  },
  {
   "cell_type": "code",
   "execution_count": null,
   "id": "ea57bbb6",
   "metadata": {},
   "outputs": [],
   "source": []
  },
  {
   "cell_type": "code",
   "execution_count": null,
   "id": "a4fd6285",
   "metadata": {},
   "outputs": [],
   "source": []
  },
  {
   "cell_type": "code",
   "execution_count": null,
   "id": "b9ff5aa6",
   "metadata": {},
   "outputs": [],
   "source": []
  },
  {
   "cell_type": "code",
   "execution_count": null,
   "id": "e1e9720d",
   "metadata": {},
   "outputs": [],
   "source": []
  },
  {
   "cell_type": "code",
   "execution_count": null,
   "id": "6870c44a",
   "metadata": {},
   "outputs": [],
   "source": []
  },
  {
   "cell_type": "code",
   "execution_count": 131,
   "id": "e2e5fef2",
   "metadata": {},
   "outputs": [
    {
     "name": "stdout",
     "output_type": "stream",
     "text": [
      "+--------------+----+\n",
      "|userId_numeric|name|\n",
      "+--------------+----+\n",
      "+--------------+----+\n",
      "\n"
     ]
    }
   ],
   "source": [
    "df_u_all=spark.read.format('parquet').load(\"file:///home/talentum/Project/ReviewDf_name/\")\n",
    "df_u_all.where(col('userId_numeric')==234660).show()"
   ]
  },
  {
   "cell_type": "code",
   "execution_count": 2,
   "id": "36608b34",
   "metadata": {},
   "outputs": [
    {
     "name": "stdout",
     "output_type": "stream",
     "text": [
      "Hello Word 1\n"
     ]
    }
   ],
   "source": [
    "print(f\"Hello Word{%d}\")"
   ]
  },
  {
   "cell_type": "code",
   "execution_count": null,
   "id": "fbd56789",
   "metadata": {},
   "outputs": [],
   "source": []
  }
 ],
 "metadata": {
  "kernelspec": {
   "display_name": "Python 3 (ipykernel)",
   "language": "python",
   "name": "python3"
  },
  "language_info": {
   "codemirror_mode": {
    "name": "ipython",
    "version": 3
   },
   "file_extension": ".py",
   "mimetype": "text/x-python",
   "name": "python",
   "nbconvert_exporter": "python",
   "pygments_lexer": "ipython3",
   "version": "3.11.5"
  }
 },
 "nbformat": 4,
 "nbformat_minor": 5
}
